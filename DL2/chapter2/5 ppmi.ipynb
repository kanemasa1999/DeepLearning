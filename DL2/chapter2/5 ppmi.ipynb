{
 "cells": [
  {
   "cell_type": "markdown",
   "metadata": {},
   "source": [
    "# 2.4 カウントベースの手法の改善"
   ]
  },
  {
   "cell_type": "markdown",
   "metadata": {},
   "source": [
    "単語の共起行列を作成し、それにより単語をベクトルで表した。\n",
    "\n",
    "\n",
    "共起行列にはまだ改善すべきところがあるのでその改善に取り組む。"
   ]
  },
  {
   "cell_type": "markdown",
   "metadata": {},
   "source": [
    "## 2.4.1 相互情報量"
   ]
  },
  {
   "cell_type": "markdown",
   "metadata": {},
   "source": [
    "カウントベースでは単語の出現頻度の優先度が高いせいで、本来ならば関連性のないものがコサイン類似度を算出した際に感覚的なずれが生まれた。\n",
    "\n",
    "例) 「car」「drive」「the」の比較\n",
    "テキストベースで考えたときに「car」は一般的に「the car」と使われるので\n",
    "\n",
    "前節のようにカウントベースだと「drive」と「car」の類似度よりも「car」と「the」の類似度の方が高い可能性がある。"
   ]
  },
  {
   "cell_type": "markdown",
   "metadata": {},
   "source": [
    "つまり問題点としては\n",
    "\n",
    "**単語の出現頻度**ばかりが物差しとなってしまう点である"
   ]
  },
  {
   "cell_type": "markdown",
   "metadata": {},
   "source": [
    "そこで使用されるのが**相互情報量(Pointwise Mutual Information : PMI)**"
   ]
  },
  {
   "cell_type": "markdown",
   "metadata": {},
   "source": [
    "$$PMI(x,y) = \\log_{2}{\\frac{P(x,y)}{P(x)P(y)}}$$"
   ]
  },
  {
   "cell_type": "markdown",
   "metadata": {},
   "source": [
    "この相互情報量の式に共起行列を当てはめることを考える。\n",
    "共起行列を$C$として、単語$x$,$y$の共起する回数を$C(x,y)$\n",
    "\n",
    "単語$x$,$y$び出現する頻度はそれぞれ$C(x)$,$C(y)$で表す。"
   ]
  },
  {
   "cell_type": "code",
   "execution_count": null,
   "metadata": {},
   "outputs": [],
   "source": []
  }
 ],
 "metadata": {
  "language_info": {
   "name": "python"
  },
  "orig_nbformat": 4
 },
 "nbformat": 4,
 "nbformat_minor": 2
}
